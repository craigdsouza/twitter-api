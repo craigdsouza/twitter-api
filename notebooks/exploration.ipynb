{
 "cells": [
  {
   "cell_type": "code",
   "execution_count": 1,
   "metadata": {},
   "outputs": [],
   "source": [
    "import os\n",
    "import sys\n",
    "import glob\n",
    "import math\n",
    "import time\n",
    "import json\n",
    "import importlib\n",
    "\n",
    "import numpy as np\n",
    "import pandas as pd\n",
    "import matplotlib.pyplot as plt"
   ]
  },
  {
   "cell_type": "code",
   "execution_count": 2,
   "metadata": {},
   "outputs": [
    {
     "name": "stdout",
     "output_type": "stream",
     "text": [
      "Current working directory:\n",
      " C:\\Users\\Craig D\\Code\n",
      "\n",
      "Proj folder:\n",
      " C:\\Users\\Craig D \n",
      "Models folder:\n",
      " C:\\Users\\Craig D\\models \n",
      "Data folder;\n",
      " C:\\Users\\Craig D\\data\n"
     ]
    }
   ],
   "source": [
    "projFol = os.path.dirname(os.getcwd())\n",
    "modelsFol = os.path.join(projFol,\"models\")\n",
    "dataFol = os.path.join(projFol,\"data\")\n",
    "\n",
    "print(\"Current working directory:\\n\",os.getcwd())\n",
    "print(\"\\nProj folder:\\n\",projFol,\"\\nModels folder:\\n\",modelsFol,\"\\nData folder;\\n\",dataFol)\n",
    "\n",
    "# sys.path.append(modelsFol)\n",
    "# print(\"\\nSystem Path folders:\")\n",
    "# sys.path\n",
    "\n",
    "# importlib.reload(clean)"
   ]
  }
 ],
 "metadata": {
  "kernelspec": {
   "display_name": "Python 3",
   "language": "python",
   "name": "python3"
  },
  "language_info": {
   "codemirror_mode": {
    "name": "ipython",
    "version": 3
   },
   "file_extension": ".py",
   "mimetype": "text/x-python",
   "name": "python",
   "nbconvert_exporter": "python",
   "pygments_lexer": "ipython3",
   "version": "3.8.3"
  }
 },
 "nbformat": 4,
 "nbformat_minor": 4
}
