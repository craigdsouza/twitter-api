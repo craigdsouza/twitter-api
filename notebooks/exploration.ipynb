{
 "cells": [
  {
   "cell_type": "markdown",
   "metadata": {},
   "source": [
    "# Docs"
   ]
  },
  {
   "cell_type": "markdown",
   "metadata": {},
   "source": [
    "Tweepy Docs: http://docs.tweepy.org/en/latest/api.html    # Community Library (supports Standard only)</br>\n",
    "TwitterAPI Docs: http://geduldig.github.io/TwitterAPI/    # Community Library (supports Premium)</br>\n",
    "Search Tweets API: https://twitterdev.github.io/search-tweets-python/    # Official Python Twitter API"
   ]
  },
  {
   "cell_type": "markdown",
   "metadata": {},
   "source": [
    "# Import Libraries"
   ]
  },
  {
   "cell_type": "code",
   "execution_count": 186,
   "metadata": {},
   "outputs": [],
   "source": [
    "import os\n",
    "import sys\n",
    "import glob\n",
    "import math\n",
    "import time\n",
    "import json\n",
    "import importlib\n",
    "from datetime import datetime\n",
    "import re\n",
    "\n",
    "import numpy as np\n",
    "import pandas as pd\n",
    "import matplotlib.pyplot as plt"
   ]
  },
  {
   "cell_type": "code",
   "execution_count": 2,
   "metadata": {},
   "outputs": [],
   "source": [
    "import tweepy as tw\n",
    "from TwitterAPI import TwitterAPI"
   ]
  },
  {
   "cell_type": "code",
   "execution_count": 3,
   "metadata": {},
   "outputs": [],
   "source": [
    "os.chdir('C:\\\\Users\\\\Craig D\\\\Code\\\\twitter\\\\notebooks')"
   ]
  },
  {
   "cell_type": "code",
   "execution_count": 4,
   "metadata": {},
   "outputs": [
    {
     "name": "stdout",
     "output_type": "stream",
     "text": [
      "Current working directory:\n",
      " C:\\Users\\Craig D\\Code\\twitter\\notebooks\n",
      "\n",
      "Proj folder:\n",
      " C:\\Users\\Craig D\\Code\\twitter \n",
      "Models folder:\n",
      " C:\\Users\\Craig D\\Code\\twitter\\models \n",
      "Data folder;\n",
      " C:\\Users\\Craig D\\Code\\twitter\\data\n"
     ]
    }
   ],
   "source": [
    "projFol = os.path.dirname(os.getcwd())\n",
    "modelsFol = os.path.join(projFol,\"models\")\n",
    "dataFol = os.path.join(projFol,\"data\")\n",
    "\n",
    "print(\"Current working directory:\\n\",os.getcwd())\n",
    "print(\"\\nProj folder:\\n\",projFol,\"\\nModels folder:\\n\",modelsFol,\"\\nData folder;\\n\",dataFol)\n",
    "\n",
    "sys.path.append(modelsFol)\n",
    "# print(\"\\nSystem Path folders:\")\n",
    "# sys.path\n",
    "\n",
    "# importlib.reload(clean)"
   ]
  },
  {
   "cell_type": "code",
   "execution_count": 5,
   "metadata": {},
   "outputs": [],
   "source": [
    "import config"
   ]
  },
  {
   "cell_type": "markdown",
   "metadata": {},
   "source": [
    "# Authentication"
   ]
  },
  {
   "cell_type": "code",
   "execution_count": 6,
   "metadata": {},
   "outputs": [],
   "source": [
    "consumer_key= config.consumer_key\n",
    "consumer_secret= config.consumer_secret\n",
    "access_token= config.access_token\n",
    "access_token_secret= config.access_token_secret"
   ]
  },
  {
   "cell_type": "code",
   "execution_count": 7,
   "metadata": {},
   "outputs": [],
   "source": [
    "auth = tw.OAuthHandler(consumer_key, consumer_secret)\n",
    "auth.set_access_token(access_token, access_token_secret)"
   ]
  },
  {
   "cell_type": "code",
   "execution_count": 8,
   "metadata": {},
   "outputs": [],
   "source": [
    "api = tw.API(auth, wait_on_rate_limit=True)\n",
    "twAPI = TwitterAPI(consumer_key, consumer_secret, access_token, access_token_secret)"
   ]
  },
  {
   "cell_type": "markdown",
   "metadata": {},
   "source": [
    "# Twitter Basics"
   ]
  },
  {
   "cell_type": "markdown",
   "metadata": {},
   "source": [
    "Original tweets - not in response to a tweet"
   ]
  },
  {
   "cell_type": "code",
   "execution_count": null,
   "metadata": {},
   "outputs": [],
   "source": []
  },
  {
   "cell_type": "markdown",
   "metadata": {},
   "source": [
    "# Search Twitter for tweets"
   ]
  },
  {
   "cell_type": "markdown",
   "metadata": {},
   "source": [
    "## define search terms"
   ]
  },
  {
   "cell_type": "code",
   "execution_count": 104,
   "metadata": {},
   "outputs": [],
   "source": [
    "# Define the search term and the date_since date as variables\n",
    "search_words = \"#waterrights\"\n",
    "date_since = \"2020-06-01\"\n",
    "date_until = \"2020-07-08\""
   ]
  },
  {
   "cell_type": "code",
   "execution_count": 105,
   "metadata": {},
   "outputs": [
    {
     "data": {
      "text/plain": [
       "'#waterrights -filter:retweets'"
      ]
     },
     "execution_count": 105,
     "metadata": {},
     "output_type": "execute_result"
    }
   ],
   "source": [
    "# optionally filter retweets\n",
    "no_retweets = search_words + \" -filter:retweets\"\n",
    "no_retweets"
   ]
  },
  {
   "cell_type": "markdown",
   "metadata": {},
   "source": [
    "## using tweepy"
   ]
  },
  {
   "cell_type": "markdown",
   "metadata": {},
   "source": [
    "### search tweets > cursor.ItemIterator "
   ]
  },
  {
   "cell_type": "code",
   "execution_count": 106,
   "metadata": {},
   "outputs": [],
   "source": [
    "tweepyC = tw.Cursor(api.search,\n",
    "                   result_type='recent',\n",
    "                   q=search_words, # new_search, #\n",
    "                   lang=\"en\",\n",
    "                   since=date_since,\n",
    "                   until=date_until).items(100) #.items(5)"
   ]
  },
  {
   "cell_type": "code",
   "execution_count": 107,
   "metadata": {},
   "outputs": [
    {
     "data": {
      "text/plain": [
       "tweepy.cursor.ItemIterator"
      ]
     },
     "execution_count": 107,
     "metadata": {},
     "output_type": "execute_result"
    }
   ],
   "source": [
    "type(tweepyC)     # examine class"
   ]
  },
  {
   "cell_type": "code",
   "execution_count": 96,
   "metadata": {},
   "outputs": [
    {
     "name": "stdout",
     "output_type": "stream",
     "text": [
      "['__class__', '__delattr__', '__dict__', '__dir__', '__doc__', '__eq__', '__format__', '__ge__', '__getattribute__', '__gt__', '__hash__', '__init__', '__init_subclass__', '__iter__', '__le__', '__lt__', '__module__', '__ne__', '__new__', '__next__', '__reduce__', '__reduce_ex__', '__repr__', '__setattr__', '__sizeof__', '__str__', '__subclasshook__', '__weakref__', 'current_page', 'limit', 'next', 'num_tweets', 'page_index', 'page_iterator', 'prev']\n"
     ]
    }
   ],
   "source": [
    "print(dir(tweepyC))    # examine class objects"
   ]
  },
  {
   "cell_type": "code",
   "execution_count": 59,
   "metadata": {},
   "outputs": [
    {
     "data": {
      "text/plain": [
       "<tweepy.cursor.ItemIterator at 0x1d3d65b1880>"
      ]
     },
     "execution_count": 59,
     "metadata": {},
     "output_type": "execute_result"
    }
   ],
   "source": [
    "tweepyC"
   ]
  },
  {
   "cell_type": "markdown",
   "metadata": {},
   "source": [
    "### cursor.ItemIterator > models.Status"
   ]
  },
  {
   "cell_type": "code",
   "execution_count": 108,
   "metadata": {},
   "outputs": [],
   "source": [
    "tweepyList = [tweet for tweet in tweepyC]"
   ]
  },
  {
   "cell_type": "code",
   "execution_count": 109,
   "metadata": {},
   "outputs": [
    {
     "data": {
      "text/plain": [
       "tweepy.models.Status"
      ]
     },
     "execution_count": 109,
     "metadata": {},
     "output_type": "execute_result"
    }
   ],
   "source": [
    "type(tweepyList[0])    # examine class"
   ]
  },
  {
   "cell_type": "code",
   "execution_count": 99,
   "metadata": {},
   "outputs": [
    {
     "name": "stdout",
     "output_type": "stream",
     "text": [
      "['__class__', '__delattr__', '__dict__', '__dir__', '__doc__', '__eq__', '__format__', '__ge__', '__getattribute__', '__getstate__', '__gt__', '__hash__', '__init__', '__init_subclass__', '__le__', '__lt__', '__module__', '__ne__', '__new__', '__reduce__', '__reduce_ex__', '__repr__', '__setattr__', '__sizeof__', '__str__', '__subclasshook__', '__weakref__', '_api', '_json', 'author', 'contributors', 'coordinates', 'created_at', 'destroy', 'entities', 'favorite', 'favorite_count', 'favorited', 'geo', 'id', 'id_str', 'in_reply_to_screen_name', 'in_reply_to_status_id', 'in_reply_to_status_id_str', 'in_reply_to_user_id', 'in_reply_to_user_id_str', 'is_quote_status', 'lang', 'metadata', 'parse', 'parse_list', 'place', 'retweet', 'retweet_count', 'retweeted', 'retweeted_status', 'retweets', 'source', 'source_url', 'text', 'truncated', 'user']\n"
     ]
    }
   ],
   "source": [
    "print(dir(tweepyList[0]))    # examine class attributes"
   ]
  },
  {
   "cell_type": "markdown",
   "metadata": {},
   "source": [
    "### examine json of single tweet"
   ]
  },
  {
   "cell_type": "code",
   "execution_count": 63,
   "metadata": {},
   "outputs": [
    {
     "data": {
      "text/plain": [
       "dict_keys(['created_at', 'id', 'id_str', 'text', 'truncated', 'entities', 'metadata', 'source', 'in_reply_to_status_id', 'in_reply_to_status_id_str', 'in_reply_to_user_id', 'in_reply_to_user_id_str', 'in_reply_to_screen_name', 'user', 'geo', 'coordinates', 'place', 'contributors', 'retweeted_status', 'is_quote_status', 'retweet_count', 'favorite_count', 'favorited', 'retweeted', 'possibly_sensitive', 'lang'])"
      ]
     },
     "execution_count": 63,
     "metadata": {},
     "output_type": "execute_result"
    }
   ],
   "source": [
    "tweepyList[0]._json.keys()"
   ]
  },
  {
   "cell_type": "markdown",
   "metadata": {},
   "source": [
    "### tweet jsons > List of Dicts "
   ]
  },
  {
   "cell_type": "code",
   "execution_count": 110,
   "metadata": {},
   "outputs": [],
   "source": [
    "tweepyDicts = [status._json for status in tweepyList]"
   ]
  },
  {
   "cell_type": "code",
   "execution_count": 111,
   "metadata": {},
   "outputs": [
    {
     "data": {
      "text/plain": [
       "dict_keys(['created_at', 'id', 'id_str', 'text', 'truncated', 'entities', 'metadata', 'source', 'in_reply_to_status_id', 'in_reply_to_status_id_str', 'in_reply_to_user_id', 'in_reply_to_user_id_str', 'in_reply_to_screen_name', 'user', 'geo', 'coordinates', 'place', 'contributors', 'retweeted_status', 'is_quote_status', 'retweet_count', 'favorite_count', 'favorited', 'retweeted', 'lang'])"
      ]
     },
     "execution_count": 111,
     "metadata": {},
     "output_type": "execute_result"
    }
   ],
   "source": [
    "tweepyDicts[0].keys()"
   ]
  },
  {
   "cell_type": "markdown",
   "metadata": {},
   "source": [
    "### examine other tweet params in a df"
   ]
  },
  {
   "cell_type": "markdown",
   "metadata": {},
   "source": [
    "of the keys shown above, let's start with \n",
    "- **created_at**,    #date\n",
    "- **id**,            tweet id    #integer\n",
    "- **text**,          tweet text    #string\n",
    "- **truncated**,     whether tweet is truncated    #boolean\n",
    "- **entities**,      dict of hashtags, symbols, user_mentions, urls\n",
    "- **metadata**,     'iso_language_code' & 'result_type'    #dict\n",
    "- **source**,       Tweetdeck/Android/iPhone/iPad/WebApp/Hootsuite Inc/TwitterforAdvertisers    #'string'\n",
    "- **in_reply_to_status_id**, None (if original tweet) or Original Tweet id    # integer\n",
    "- **in_reply_to_user_id**, None (if original tweet) or Original Handle's id    # integer\n",
    "- **in_reply_to_screen_name**, None (if original tweet) or Original Handle's screen name    # string\n",
    "- **user**,          dict of id,name,screen_name, location, description, url, entities {'url'},'protected','followers_count','friends_count','listed_count','created_at','favorites_count','utc_offset','time_zone','geo_enabled','verified','statuses_count','lang','contributors_enabled','is_translator','is_translation_enabled','following','follow_request_sent','notifications','translator_type'       # dict\n",
    "- **geo**,          mostly appears as None\n",
    "- **coordinates**,  mostly appears as None\n",
    "- **place**,        mostly appears as None\n",
    "- **contributors**, mostly appears as None\n",
    "- **retweeted_status**, dict of all of the keys of a original tweet    #dict\n",
    "- **is_quote_status**, boolean, whether tweet is a quote\n",
    "- **retweet_count**, whether this tweet was retweeted, how many times    #int\n",
    "- **favorite_count**, whether this tweet was favorited, how many times    #int\n",
    "- **favorited**,    whether tweet was favorited\n",
    "- **retweeted**,    whether tweet was retweeted\n",
    "- **lang**,         language of tweet"
   ]
  },
  {
   "cell_type": "code",
   "execution_count": 199,
   "metadata": {},
   "outputs": [],
   "source": [
    "params = [[json['created_at'],json['text'],[hashtag['text'] for hashtag in json['entities']['hashtags']],json['source'],json['in_reply_to_screen_name'],\n",
    "           json['user']['screen_name'],json['user']['location'],json['user']['followers_count'],\n",
    "           json['user']['created_at'],json['user']['statuses_count'],\n",
    "           json['place'],json['favorited'],json['retweeted'],json['is_quote_status'],\n",
    "           json['retweet_count'],json['favorite_count'],json['lang']] for json in tweepyDicts]\n",
    "df = pd.DataFrame(params, columns=['date','text','hashtags','source','in_reply_to','user_screen_name',\n",
    "                                  'user_location','user_followers','user_created_at','user_tweets',\n",
    "                                  'place','favorited','retweeted','is_quote_status',\n",
    "                                  'retweet_count','favorite_count','lang'])"
   ]
  },
  {
   "cell_type": "code",
   "execution_count": 219,
   "metadata": {},
   "outputs": [],
   "source": [
    "df['date'] = pd.to_datetime(df['date'],format=\"%a %b %d %H:%M:%S +0000 %Y\")\n",
    "df['source'] = df['source'].apply(lambda source:re.findall(r'\\>(.+?)\\<',source)[0])\n",
    "df['user_created_at'] = pd.to_datetime(df['user_created_at'],format=\"%a %b %d %H:%M:%S +0000 %Y\")"
   ]
  },
  {
   "cell_type": "code",
   "execution_count": 238,
   "metadata": {},
   "outputs": [
    {
     "data": {
      "text/html": [
       "<div>\n",
       "<style scoped>\n",
       "    .dataframe tbody tr th:only-of-type {\n",
       "        vertical-align: middle;\n",
       "    }\n",
       "\n",
       "    .dataframe tbody tr th {\n",
       "        vertical-align: top;\n",
       "    }\n",
       "\n",
       "    .dataframe thead th {\n",
       "        text-align: right;\n",
       "    }\n",
       "</style>\n",
       "<table border=\"1\" class=\"dataframe\">\n",
       "  <thead>\n",
       "    <tr style=\"text-align: right;\">\n",
       "      <th></th>\n",
       "      <th>date</th>\n",
       "      <th>text</th>\n",
       "      <th>hashtags</th>\n",
       "      <th>source</th>\n",
       "      <th>in_reply_to</th>\n",
       "      <th>user_screen_name</th>\n",
       "      <th>user_location</th>\n",
       "      <th>user_followers</th>\n",
       "      <th>user_created_at</th>\n",
       "      <th>user_tweets</th>\n",
       "      <th>place</th>\n",
       "      <th>favorited</th>\n",
       "      <th>retweeted</th>\n",
       "      <th>is_quote_status</th>\n",
       "      <th>retweet_count</th>\n",
       "      <th>favorite_count</th>\n",
       "      <th>lang</th>\n",
       "    </tr>\n",
       "  </thead>\n",
       "  <tbody>\n",
       "    <tr>\n",
       "      <th>0</th>\n",
       "      <td>2020-07-07 00:08:03</td>\n",
       "      <td>RT @AALRR: Register Now! | Live Audio Webinar ...</td>\n",
       "      <td>[]</td>\n",
       "      <td>TweetDeck</td>\n",
       "      <td>None</td>\n",
       "      <td>vxjoe</td>\n",
       "      <td>Rialto CA 92376</td>\n",
       "      <td>472</td>\n",
       "      <td>2009-12-07 08:09:03</td>\n",
       "      <td>54657</td>\n",
       "      <td>None</td>\n",
       "      <td>False</td>\n",
       "      <td>False</td>\n",
       "      <td>False</td>\n",
       "      <td>2</td>\n",
       "      <td>0</td>\n",
       "      <td>en</td>\n",
       "    </tr>\n",
       "    <tr>\n",
       "      <th>1</th>\n",
       "      <td>2020-07-07 00:07:36</td>\n",
       "      <td>RT @AALRR: Register Now! | Live Audio Webinar ...</td>\n",
       "      <td>[]</td>\n",
       "      <td>TweetDeck</td>\n",
       "      <td>None</td>\n",
       "      <td>RialtoBoard</td>\n",
       "      <td>Rialto,CA</td>\n",
       "      <td>616</td>\n",
       "      <td>2010-11-30 06:01:19</td>\n",
       "      <td>61605</td>\n",
       "      <td>None</td>\n",
       "      <td>False</td>\n",
       "      <td>False</td>\n",
       "      <td>False</td>\n",
       "      <td>2</td>\n",
       "      <td>0</td>\n",
       "      <td>en</td>\n",
       "    </tr>\n",
       "    <tr>\n",
       "      <th>2</th>\n",
       "      <td>2020-07-06 18:38:35</td>\n",
       "      <td>RT @ProtectHarvest: Help us protect your way o...</td>\n",
       "      <td>[agriculture, farming, ranching, hunting]</td>\n",
       "      <td>Twitter for Android</td>\n",
       "      <td>None</td>\n",
       "      <td>CHConservative</td>\n",
       "      <td>South-Central PA</td>\n",
       "      <td>66</td>\n",
       "      <td>2012-10-23 02:31:47</td>\n",
       "      <td>2999</td>\n",
       "      <td>None</td>\n",
       "      <td>False</td>\n",
       "      <td>False</td>\n",
       "      <td>False</td>\n",
       "      <td>1</td>\n",
       "      <td>0</td>\n",
       "      <td>en</td>\n",
       "    </tr>\n",
       "    <tr>\n",
       "      <th>3</th>\n",
       "      <td>2020-07-06 18:28:00</td>\n",
       "      <td>Help us protect your way of life – consider do...</td>\n",
       "      <td>[agriculture, farming, ranching]</td>\n",
       "      <td>Twitter for Advertisers</td>\n",
       "      <td>None</td>\n",
       "      <td>ProtectHarvest</td>\n",
       "      <td>USA</td>\n",
       "      <td>7709</td>\n",
       "      <td>2011-10-07 21:22:15</td>\n",
       "      <td>23594</td>\n",
       "      <td>None</td>\n",
       "      <td>False</td>\n",
       "      <td>False</td>\n",
       "      <td>False</td>\n",
       "      <td>1</td>\n",
       "      <td>4</td>\n",
       "      <td>en</td>\n",
       "    </tr>\n",
       "    <tr>\n",
       "      <th>4</th>\n",
       "      <td>2020-07-06 16:49:38</td>\n",
       "      <td>@jneposibo 🙂#Permaculture is so underrated. It...</td>\n",
       "      <td>[Permaculture]</td>\n",
       "      <td>Twitter Web App</td>\n",
       "      <td>jneposibo</td>\n",
       "      <td>EarthSymbol</td>\n",
       "      <td>#Australia #Oceania</td>\n",
       "      <td>2551</td>\n",
       "      <td>2017-02-27 02:27:22</td>\n",
       "      <td>27671</td>\n",
       "      <td>None</td>\n",
       "      <td>False</td>\n",
       "      <td>False</td>\n",
       "      <td>False</td>\n",
       "      <td>1</td>\n",
       "      <td>0</td>\n",
       "      <td>en</td>\n",
       "    </tr>\n",
       "    <tr>\n",
       "      <th>5</th>\n",
       "      <td>2020-07-06 11:35:03</td>\n",
       "      <td>Court upholds ban on sale of water rights by #...</td>\n",
       "      <td>[farmers, WISA, WaterCrisis, SaveWater]</td>\n",
       "      <td>Hootsuite Inc.</td>\n",
       "      <td>None</td>\n",
       "      <td>WaterInstSA</td>\n",
       "      <td>16th Road Midrand, Gauteng</td>\n",
       "      <td>4483</td>\n",
       "      <td>2016-04-08 08:24:16</td>\n",
       "      <td>2668</td>\n",
       "      <td>None</td>\n",
       "      <td>False</td>\n",
       "      <td>False</td>\n",
       "      <td>False</td>\n",
       "      <td>0</td>\n",
       "      <td>1</td>\n",
       "      <td>en</td>\n",
       "    </tr>\n",
       "    <tr>\n",
       "      <th>6</th>\n",
       "      <td>2020-07-06 09:19:38</td>\n",
       "      <td>Countdown to a bitter battle over the water of...</td>\n",
       "      <td>[Africa, Ethiopia, Egypt]</td>\n",
       "      <td>Twitter Web App</td>\n",
       "      <td>None</td>\n",
       "      <td>equaltimes</td>\n",
       "      <td>Worldwide</td>\n",
       "      <td>5687</td>\n",
       "      <td>2012-08-21 12:10:23</td>\n",
       "      <td>9376</td>\n",
       "      <td>None</td>\n",
       "      <td>False</td>\n",
       "      <td>False</td>\n",
       "      <td>False</td>\n",
       "      <td>0</td>\n",
       "      <td>1</td>\n",
       "      <td>en</td>\n",
       "    </tr>\n",
       "    <tr>\n",
       "      <th>7</th>\n",
       "      <td>2020-07-05 18:02:47</td>\n",
       "      <td>Rudolfo Anaya, a Father of Chicano Literature ...</td>\n",
       "      <td>[obitpix, rudolfoanaya, writer, chicano, newme...</td>\n",
       "      <td>Twitter for iPhone</td>\n",
       "      <td>None</td>\n",
       "      <td>PeterLandau</td>\n",
       "      <td>Upper U.S.</td>\n",
       "      <td>975</td>\n",
       "      <td>2008-09-02 15:15:38</td>\n",
       "      <td>26859</td>\n",
       "      <td>None</td>\n",
       "      <td>False</td>\n",
       "      <td>False</td>\n",
       "      <td>False</td>\n",
       "      <td>0</td>\n",
       "      <td>4</td>\n",
       "      <td>en</td>\n",
       "    </tr>\n",
       "    <tr>\n",
       "      <th>8</th>\n",
       "      <td>2020-07-04 22:29:00</td>\n",
       "      <td>Sincere support to protestors demonstrating ru...</td>\n",
       "      <td>[naziRally, MtRushmore, RepublicansRWhiteSupre...</td>\n",
       "      <td>Twitter for Android</td>\n",
       "      <td>None</td>\n",
       "      <td>L2H2a</td>\n",
       "      <td></td>\n",
       "      <td>116</td>\n",
       "      <td>2015-12-28 19:44:39</td>\n",
       "      <td>18636</td>\n",
       "      <td>None</td>\n",
       "      <td>False</td>\n",
       "      <td>False</td>\n",
       "      <td>False</td>\n",
       "      <td>0</td>\n",
       "      <td>1</td>\n",
       "      <td>en</td>\n",
       "    </tr>\n",
       "    <tr>\n",
       "      <th>9</th>\n",
       "      <td>2020-07-03 22:38:00</td>\n",
       "      <td>A complex #water rights situation pits #LasVeg...</td>\n",
       "      <td>[water, LasVegas, Nevada]</td>\n",
       "      <td>Twitter for Advertisers</td>\n",
       "      <td>None</td>\n",
       "      <td>ProtectHarvest</td>\n",
       "      <td>USA</td>\n",
       "      <td>7709</td>\n",
       "      <td>2011-10-07 21:22:15</td>\n",
       "      <td>23594</td>\n",
       "      <td>None</td>\n",
       "      <td>False</td>\n",
       "      <td>False</td>\n",
       "      <td>False</td>\n",
       "      <td>0</td>\n",
       "      <td>0</td>\n",
       "      <td>en</td>\n",
       "    </tr>\n",
       "  </tbody>\n",
       "</table>\n",
       "</div>"
      ],
      "text/plain": [
       "                 date                                               text  \\\n",
       "0 2020-07-07 00:08:03  RT @AALRR: Register Now! | Live Audio Webinar ...   \n",
       "1 2020-07-07 00:07:36  RT @AALRR: Register Now! | Live Audio Webinar ...   \n",
       "2 2020-07-06 18:38:35  RT @ProtectHarvest: Help us protect your way o...   \n",
       "3 2020-07-06 18:28:00  Help us protect your way of life – consider do...   \n",
       "4 2020-07-06 16:49:38  @jneposibo 🙂#Permaculture is so underrated. It...   \n",
       "5 2020-07-06 11:35:03  Court upholds ban on sale of water rights by #...   \n",
       "6 2020-07-06 09:19:38  Countdown to a bitter battle over the water of...   \n",
       "7 2020-07-05 18:02:47  Rudolfo Anaya, a Father of Chicano Literature ...   \n",
       "8 2020-07-04 22:29:00  Sincere support to protestors demonstrating ru...   \n",
       "9 2020-07-03 22:38:00  A complex #water rights situation pits #LasVeg...   \n",
       "\n",
       "                                            hashtags                   source  \\\n",
       "0                                                 []                TweetDeck   \n",
       "1                                                 []                TweetDeck   \n",
       "2          [agriculture, farming, ranching, hunting]      Twitter for Android   \n",
       "3                   [agriculture, farming, ranching]  Twitter for Advertisers   \n",
       "4                                     [Permaculture]          Twitter Web App   \n",
       "5            [farmers, WISA, WaterCrisis, SaveWater]           Hootsuite Inc.   \n",
       "6                          [Africa, Ethiopia, Egypt]          Twitter Web App   \n",
       "7  [obitpix, rudolfoanaya, writer, chicano, newme...       Twitter for iPhone   \n",
       "8  [naziRally, MtRushmore, RepublicansRWhiteSupre...      Twitter for Android   \n",
       "9                          [water, LasVegas, Nevada]  Twitter for Advertisers   \n",
       "\n",
       "  in_reply_to user_screen_name                user_location  user_followers  \\\n",
       "0        None            vxjoe              Rialto CA 92376             472   \n",
       "1        None      RialtoBoard                    Rialto,CA             616   \n",
       "2        None   CHConservative            South-Central PA               66   \n",
       "3        None   ProtectHarvest                          USA            7709   \n",
       "4   jneposibo      EarthSymbol          #Australia #Oceania            2551   \n",
       "5        None      WaterInstSA  16th Road Midrand, Gauteng             4483   \n",
       "6        None       equaltimes                    Worldwide            5687   \n",
       "7        None      PeterLandau                   Upper U.S.             975   \n",
       "8        None            L2H2a                                          116   \n",
       "9        None   ProtectHarvest                          USA            7709   \n",
       "\n",
       "      user_created_at  user_tweets place  favorited  retweeted  \\\n",
       "0 2009-12-07 08:09:03        54657  None      False      False   \n",
       "1 2010-11-30 06:01:19        61605  None      False      False   \n",
       "2 2012-10-23 02:31:47         2999  None      False      False   \n",
       "3 2011-10-07 21:22:15        23594  None      False      False   \n",
       "4 2017-02-27 02:27:22        27671  None      False      False   \n",
       "5 2016-04-08 08:24:16         2668  None      False      False   \n",
       "6 2012-08-21 12:10:23         9376  None      False      False   \n",
       "7 2008-09-02 15:15:38        26859  None      False      False   \n",
       "8 2015-12-28 19:44:39        18636  None      False      False   \n",
       "9 2011-10-07 21:22:15        23594  None      False      False   \n",
       "\n",
       "   is_quote_status  retweet_count  favorite_count lang  \n",
       "0            False              2               0   en  \n",
       "1            False              2               0   en  \n",
       "2            False              1               0   en  \n",
       "3            False              1               4   en  \n",
       "4            False              1               0   en  \n",
       "5            False              0               1   en  \n",
       "6            False              0               1   en  \n",
       "7            False              0               4   en  \n",
       "8            False              0               1   en  \n",
       "9            False              0               0   en  "
      ]
     },
     "execution_count": 238,
     "metadata": {},
     "output_type": "execute_result"
    }
   ],
   "source": [
    "df.head(10)"
   ]
  },
  {
   "cell_type": "code",
   "execution_count": 193,
   "metadata": {},
   "outputs": [
    {
     "data": {
      "text/plain": [
       "<re.Match object; span=(69, 80), match='>TweetDeck<'>"
      ]
     },
     "execution_count": 193,
     "metadata": {},
     "output_type": "execute_result"
    }
   ],
   "source": [
    "re.search(r\">(\\w+)<\",df.iloc[0,3])"
   ]
  },
  {
   "cell_type": "markdown",
   "metadata": {},
   "source": [
    "## using Twitter API"
   ]
  },
  {
   "cell_type": "code",
   "execution_count": 95,
   "metadata": {},
   "outputs": [],
   "source": [
    "twi = twAPI.request('search/tweets', {'q':search_words})"
   ]
  },
  {
   "cell_type": "code",
   "execution_count": 97,
   "metadata": {},
   "outputs": [
    {
     "data": {
      "text/plain": [
       "TwitterAPI.TwitterAPI.TwitterResponse"
      ]
     },
     "execution_count": 97,
     "metadata": {},
     "output_type": "execute_result"
    }
   ],
   "source": [
    "type(twi)"
   ]
  },
  {
   "cell_type": "code",
   "execution_count": 96,
   "metadata": {},
   "outputs": [
    {
     "name": "stdout",
     "output_type": "stream",
     "text": [
      "['__class__', '__delattr__', '__dict__', '__dir__', '__doc__', '__eq__', '__format__', '__ge__', '__getattribute__', '__gt__', '__hash__', '__init__', '__init_subclass__', '__iter__', '__le__', '__lt__', '__module__', '__ne__', '__new__', '__reduce__', '__reduce_ex__', '__repr__', '__setattr__', '__sizeof__', '__str__', '__subclasshook__', '__weakref__', 'close', 'get_iterator', 'get_quota', 'headers', 'json', 'response', 'status_code', 'stream', 'text']\n"
     ]
    }
   ],
   "source": [
    "print(dir(twi))    # examine class objects"
   ]
  },
  {
   "cell_type": "code",
   "execution_count": 98,
   "metadata": {},
   "outputs": [],
   "source": [
    "twiAPIList = [tweet for tweet in twi]"
   ]
  },
  {
   "cell_type": "code",
   "execution_count": 101,
   "metadata": {},
   "outputs": [
    {
     "data": {
      "text/plain": [
       "dict"
      ]
     },
     "execution_count": 101,
     "metadata": {},
     "output_type": "execute_result"
    }
   ],
   "source": [
    "type(twiAPIList[0])    # examine class  #it's a regular dict!"
   ]
  },
  {
   "cell_type": "code",
   "execution_count": 102,
   "metadata": {},
   "outputs": [
    {
     "name": "stdout",
     "output_type": "stream",
     "text": [
      "['__class__', '__contains__', '__delattr__', '__delitem__', '__dir__', '__doc__', '__eq__', '__format__', '__ge__', '__getattribute__', '__getitem__', '__gt__', '__hash__', '__init__', '__init_subclass__', '__iter__', '__le__', '__len__', '__lt__', '__ne__', '__new__', '__reduce__', '__reduce_ex__', '__repr__', '__reversed__', '__setattr__', '__setitem__', '__sizeof__', '__str__', '__subclasshook__', 'clear', 'copy', 'fromkeys', 'get', 'items', 'keys', 'pop', 'popitem', 'setdefault', 'update', 'values']\n"
     ]
    }
   ],
   "source": [
    "print(dir(twiAPIList[0]))    # examine class objects"
   ]
  },
  {
   "cell_type": "code",
   "execution_count": 108,
   "metadata": {},
   "outputs": [
    {
     "data": {
      "text/plain": [
       "dict_keys(['created_at', 'id', 'id_str', 'text', 'truncated', 'entities', 'metadata', 'source', 'in_reply_to_status_id', 'in_reply_to_status_id_str', 'in_reply_to_user_id', 'in_reply_to_user_id_str', 'in_reply_to_screen_name', 'user', 'geo', 'coordinates', 'place', 'contributors', 'is_quote_status', 'retweet_count', 'favorite_count', 'favorited', 'retweeted', 'lang'])"
      ]
     },
     "execution_count": 108,
     "metadata": {},
     "output_type": "execute_result"
    }
   ],
   "source": [
    "twiAPIList[2].keys()"
   ]
  },
  {
   "cell_type": "code",
   "execution_count": 111,
   "metadata": {},
   "outputs": [
    {
     "data": {
      "text/plain": [
       "True"
      ]
     },
     "execution_count": 111,
     "metadata": {},
     "output_type": "execute_result"
    }
   ],
   "source": [
    "tweepyList[0]._json.keys() == twiAPIList[0].keys()"
   ]
  },
  {
   "cell_type": "markdown",
   "metadata": {},
   "source": [
    "# Tweet"
   ]
  },
  {
   "cell_type": "code",
   "execution_count": null,
   "metadata": {},
   "outputs": [],
   "source": [
    "# Post a tweet from Python\n",
    "# api.update_status(\"Hello world! I'm a twitter bot\")\n",
    "# Your tweet has been posted!"
   ]
  }
 ],
 "metadata": {
  "kernelspec": {
   "display_name": "Python 3",
   "language": "python",
   "name": "python3"
  },
  "language_info": {
   "codemirror_mode": {
    "name": "ipython",
    "version": 3
   },
   "file_extension": ".py",
   "mimetype": "text/x-python",
   "name": "python",
   "nbconvert_exporter": "python",
   "pygments_lexer": "ipython3",
   "version": "3.8.3"
  },
  "toc-autonumbering": true
 },
 "nbformat": 4,
 "nbformat_minor": 4
}
