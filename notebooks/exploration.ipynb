{
 "cells": [
  {
   "cell_type": "markdown",
   "metadata": {},
   "source": [
    "# Import Libraries"
   ]
  },
  {
   "cell_type": "code",
   "execution_count": 3,
   "metadata": {},
   "outputs": [],
   "source": [
    "import os\n",
    "import sys\n",
    "import glob\n",
    "import math\n",
    "import time\n",
    "import json\n",
    "import importlib\n",
    "\n",
    "import numpy as np\n",
    "import pandas as pd\n",
    "import matplotlib.pyplot as plt"
   ]
  },
  {
   "cell_type": "code",
   "execution_count": 1,
   "metadata": {},
   "outputs": [],
   "source": [
    "import tweepy as tw\n",
    "from TwitterAPI import TwitterAPI"
   ]
  },
  {
   "cell_type": "code",
   "execution_count": 5,
   "metadata": {},
   "outputs": [],
   "source": [
    "os.chdir('C:\\\\Users\\\\Craig D\\\\Code\\\\twitter\\\\notebooks')"
   ]
  },
  {
   "cell_type": "code",
   "execution_count": 12,
   "metadata": {},
   "outputs": [
    {
     "name": "stdout",
     "output_type": "stream",
     "text": [
      "Current working directory:\n",
      " C:\\Users\\Craig D\\Code\\twitter\\notebooks\n",
      "\n",
      "Proj folder:\n",
      " C:\\Users\\Craig D\\Code\\twitter \n",
      "Models folder:\n",
      " C:\\Users\\Craig D\\Code\\twitter\\models \n",
      "Data folder;\n",
      " C:\\Users\\Craig D\\Code\\twitter\\data\n"
     ]
    }
   ],
   "source": [
    "projFol = os.path.dirname(os.getcwd())\n",
    "modelsFol = os.path.join(projFol,\"models\")\n",
    "dataFol = os.path.join(projFol,\"data\")\n",
    "\n",
    "print(\"Current working directory:\\n\",os.getcwd())\n",
    "print(\"\\nProj folder:\\n\",projFol,\"\\nModels folder:\\n\",modelsFol,\"\\nData folder;\\n\",dataFol)\n",
    "\n",
    "sys.path.append(modelsFol)\n",
    "# print(\"\\nSystem Path folders:\")\n",
    "# sys.path\n",
    "\n",
    "# importlib.reload(clean)"
   ]
  },
  {
   "cell_type": "code",
   "execution_count": 13,
   "metadata": {},
   "outputs": [],
   "source": [
    "import config"
   ]
  },
  {
   "cell_type": "markdown",
   "metadata": {},
   "source": [
    "# Authentication"
   ]
  },
  {
   "cell_type": "code",
   "execution_count": 14,
   "metadata": {},
   "outputs": [],
   "source": [
    "consumer_key= config.consumer_key\n",
    "consumer_secret= config.consumer_secret\n",
    "access_token= config.access_token\n",
    "access_token_secret= config.access_token_secret"
   ]
  },
  {
   "cell_type": "code",
   "execution_count": 15,
   "metadata": {},
   "outputs": [],
   "source": [
    "auth = tw.OAuthHandler(consumer_key, consumer_secret)\n",
    "auth.set_access_token(access_token, access_token_secret)\n",
    "api = tw.API(auth, wait_on_rate_limit=True)"
   ]
  },
  {
   "cell_type": "markdown",
   "metadata": {},
   "source": [
    "# Tweet"
   ]
  },
  {
   "cell_type": "code",
   "execution_count": null,
   "metadata": {},
   "outputs": [],
   "source": [
    "# Post a tweet from Python\n",
    "# api.update_status(\"Look, I'm tweeting from #Python in my #earthanalytics class! @EarthLabCU\")\n",
    "# Your tweet has been posted!"
   ]
  },
  {
   "cell_type": "markdown",
   "metadata": {},
   "source": [
    "# Search Twitter for tweets"
   ]
  },
  {
   "cell_type": "code",
   "execution_count": 16,
   "metadata": {},
   "outputs": [],
   "source": [
    "# Define the search term and the date_since date as variables\n",
    "search_words = \"#covid\"\n",
    "date_since = \"2020-06-07\" "
   ]
  },
  {
   "cell_type": "code",
   "execution_count": 10,
   "metadata": {},
   "outputs": [
    {
     "data": {
      "text/plain": [
       "'#covid -filter:retweets'"
      ]
     },
     "execution_count": 10,
     "metadata": {},
     "output_type": "execute_result"
    }
   ],
   "source": [
    "# optionally filter retweets\n",
    "new_search = search_words + \" -filter:retweets\"\n",
    "new_search"
   ]
  },
  {
   "cell_type": "code",
   "execution_count": 17,
   "metadata": {},
   "outputs": [
    {
     "data": {
      "text/plain": [
       "10"
      ]
     },
     "execution_count": 17,
     "metadata": {},
     "output_type": "execute_result"
    }
   ],
   "source": [
    "# Collect tweets\n",
    "tweets = tw.Cursor(api.search,\n",
    "                   result_type='',\n",
    "                   q=new_search, #search_words, # new_search, #\n",
    "                   lang=\"en\",\n",
    "                   since=date_since).items(10) #.items(5)\n",
    "users_locs = [[tweet.user.screen_name, tweet.user.location,tweet.text] for tweet in tweets]\n",
    "len(users_locs)\n",
    "# tweetsList = [tweet.text for tweet in tweets]\n",
    "# len(tweetsList)"
   ]
  },
  {
   "cell_type": "code",
   "execution_count": 18,
   "metadata": {},
   "outputs": [
    {
     "name": "stdout",
     "output_type": "stream",
     "text": [
      "['xpressandhra', 'Vijayawada', 'Government doctor succumbs to #COVID-19 in #Guntur, 40 staff at hospital tested https://t.co/eA2P6Sf2Cw via @NewIndianXpress']\n"
     ]
    }
   ],
   "source": [
    "print(users_locs[0])"
   ]
  },
  {
   "cell_type": "code",
   "execution_count": 51,
   "metadata": {},
   "outputs": [
    {
     "name": "stdout",
     "output_type": "stream",
     "text": [
      ".@RepJayapal, the Trump Admin used #COVID-19 as a screen to remove federal protections from #birds, despite strong… https://t.co/H2WekogIrn\n"
     ]
    }
   ],
   "source": [
    "print(tweetsList[0])"
   ]
  },
  {
   "cell_type": "code",
   "execution_count": 48,
   "metadata": {},
   "outputs": [
    {
     "data": {
      "text/plain": [
       "0"
      ]
     },
     "execution_count": 48,
     "metadata": {},
     "output_type": "execute_result"
    }
   ],
   "source": [
    "users_locs = [[tweet.user.screen_name, tweet.user.location,tweet.text] for tweet in tweets]\n",
    "len(users_locs)"
   ]
  },
  {
   "cell_type": "code",
   "execution_count": 56,
   "metadata": {},
   "outputs": [
    {
     "data": {
      "text/html": [
       "<div>\n",
       "<style scoped>\n",
       "    .dataframe tbody tr th:only-of-type {\n",
       "        vertical-align: middle;\n",
       "    }\n",
       "\n",
       "    .dataframe tbody tr th {\n",
       "        vertical-align: top;\n",
       "    }\n",
       "\n",
       "    .dataframe thead th {\n",
       "        text-align: right;\n",
       "    }\n",
       "</style>\n",
       "<table border=\"1\" class=\"dataframe\">\n",
       "  <thead>\n",
       "    <tr style=\"text-align: right;\">\n",
       "      <th></th>\n",
       "      <th>user</th>\n",
       "      <th>location</th>\n",
       "      <th>tweet</th>\n",
       "    </tr>\n",
       "  </thead>\n",
       "  <tbody>\n",
       "    <tr>\n",
       "      <th>0</th>\n",
       "      <td>PeppermintGekko</td>\n",
       "      <td>Earth</td>\n",
       "      <td>This is what rampant misinformation &amp;amp; a ly...</td>\n",
       "    </tr>\n",
       "    <tr>\n",
       "      <th>1</th>\n",
       "      <td>whymustyoujudge</td>\n",
       "      <td></td>\n",
       "      <td>Michigan thank god we have a governor @GovWhit...</td>\n",
       "    </tr>\n",
       "    <tr>\n",
       "      <th>2</th>\n",
       "      <td>Control_Risks</td>\n",
       "      <td></td>\n",
       "      <td>Our RiskMap webinar looks at how our Top 5 Ris...</td>\n",
       "    </tr>\n",
       "    <tr>\n",
       "      <th>3</th>\n",
       "      <td>IndieCID</td>\n",
       "      <td>Kansas City, MO</td>\n",
       "      <td>#NEKCChamber https://t.co/h89VCb1ZHJ\\n&amp;amp; Ce...</td>\n",
       "    </tr>\n",
       "    <tr>\n",
       "      <th>4</th>\n",
       "      <td>RestoringFreed1</td>\n",
       "      <td>Scottsdale</td>\n",
       "      <td>Thousands of Arizona residents will die and su...</td>\n",
       "    </tr>\n",
       "    <tr>\n",
       "      <th>...</th>\n",
       "      <td>...</td>\n",
       "      <td>...</td>\n",
       "      <td>...</td>\n",
       "    </tr>\n",
       "    <tr>\n",
       "      <th>95</th>\n",
       "      <td>Lion_Investor</td>\n",
       "      <td>England, United Kingdom</td>\n",
       "      <td>@BullionBull_ 😅People preparing for the inevit...</td>\n",
       "    </tr>\n",
       "    <tr>\n",
       "      <th>96</th>\n",
       "      <td>BillCatlette</td>\n",
       "      <td>Sleep w/Marriott (wife knows)</td>\n",
       "      <td>#Telemedicine expansion is vital to diagnosing...</td>\n",
       "    </tr>\n",
       "    <tr>\n",
       "      <th>97</th>\n",
       "      <td>Azizian_Reza</td>\n",
       "      <td>San Jose, CA</td>\n",
       "      <td>Strange times! :( #Australia #COVID #Victoria ...</td>\n",
       "    </tr>\n",
       "    <tr>\n",
       "      <th>98</th>\n",
       "      <td>CSojourner</td>\n",
       "      <td>FL Cong Dist 8</td>\n",
       "      <td>@LynnSharig8 @Joshmanphotog #TheTreasonousHate...</td>\n",
       "    </tr>\n",
       "    <tr>\n",
       "      <th>99</th>\n",
       "      <td>DustySheldon</td>\n",
       "      <td>Chicago, IL</td>\n",
       "      <td>@CDCgov Can you clarify your mention of “epide...</td>\n",
       "    </tr>\n",
       "  </tbody>\n",
       "</table>\n",
       "<p>100 rows × 3 columns</p>\n",
       "</div>"
      ],
      "text/plain": [
       "               user                       location  \\\n",
       "0   PeppermintGekko                          Earth   \n",
       "1   whymustyoujudge                                  \n",
       "2     Control_Risks                                  \n",
       "3          IndieCID                Kansas City, MO   \n",
       "4   RestoringFreed1                   Scottsdale     \n",
       "..              ...                            ...   \n",
       "95    Lion_Investor        England, United Kingdom   \n",
       "96     BillCatlette  Sleep w/Marriott (wife knows)   \n",
       "97     Azizian_Reza                   San Jose, CA   \n",
       "98       CSojourner                 FL Cong Dist 8   \n",
       "99     DustySheldon                    Chicago, IL   \n",
       "\n",
       "                                                tweet  \n",
       "0   This is what rampant misinformation &amp; a ly...  \n",
       "1   Michigan thank god we have a governor @GovWhit...  \n",
       "2   Our RiskMap webinar looks at how our Top 5 Ris...  \n",
       "3   #NEKCChamber https://t.co/h89VCb1ZHJ\\n&amp; Ce...  \n",
       "4   Thousands of Arizona residents will die and su...  \n",
       "..                                                ...  \n",
       "95  @BullionBull_ 😅People preparing for the inevit...  \n",
       "96  #Telemedicine expansion is vital to diagnosing...  \n",
       "97  Strange times! :( #Australia #COVID #Victoria ...  \n",
       "98  @LynnSharig8 @Joshmanphotog #TheTreasonousHate...  \n",
       "99  @CDCgov Can you clarify your mention of “epide...  \n",
       "\n",
       "[100 rows x 3 columns]"
      ]
     },
     "execution_count": 56,
     "metadata": {},
     "output_type": "execute_result"
    }
   ],
   "source": [
    "tweet_text = pd.DataFrame(data=users_locs, \n",
    "                    columns=['user', \"location\",\"tweet\"])\n",
    "tweet_text"
   ]
  },
  {
   "cell_type": "code",
   "execution_count": 59,
   "metadata": {},
   "outputs": [
    {
     "data": {
      "text/plain": [
       "'This is what rampant misinformation &amp; a lying president will get ya- dead kids. #covid #Covid_19 #COVID19… https://t.co/cBXZ4tVgqi'"
      ]
     },
     "execution_count": 59,
     "metadata": {},
     "output_type": "execute_result"
    }
   ],
   "source": [
    "tweet_text.iloc[0,2]"
   ]
  },
  {
   "cell_type": "markdown",
   "metadata": {},
   "source": [
    "# Use Twitter API"
   ]
  },
  {
   "cell_type": "code",
   "execution_count": 61,
   "metadata": {},
   "outputs": [],
   "source": [
    "api = TwitterAPI(consumer_key, consumer_secret, access_token, access_token_secret)"
   ]
  },
  {
   "cell_type": "code",
   "execution_count": 101,
   "metadata": {},
   "outputs": [],
   "source": [
    "r = api.request('search/tweets', {'q':'#sainath'})"
   ]
  },
  {
   "cell_type": "code",
   "execution_count": 102,
   "metadata": {},
   "outputs": [],
   "source": [
    "tweetList = [tweet for tweet in r]"
   ]
  },
  {
   "cell_type": "code",
   "execution_count": 80,
   "metadata": {},
   "outputs": [
    {
     "data": {
      "text/plain": [
       "dict_keys(['id', 'id_str', 'name', 'screen_name', 'location', 'description', 'url', 'entities', 'protected', 'followers_count', 'friends_count', 'listed_count', 'created_at', 'favourites_count', 'utc_offset', 'time_zone', 'geo_enabled', 'verified', 'statuses_count', 'lang', 'contributors_enabled', 'is_translator', 'is_translation_enabled', 'profile_background_color', 'profile_background_image_url', 'profile_background_image_url_https', 'profile_background_tile', 'profile_image_url', 'profile_image_url_https', 'profile_banner_url', 'profile_link_color', 'profile_sidebar_border_color', 'profile_sidebar_fill_color', 'profile_text_color', 'profile_use_background_image', 'has_extended_profile', 'default_profile', 'default_profile_image', 'following', 'follow_request_sent', 'notifications', 'translator_type'])"
      ]
     },
     "execution_count": 80,
     "metadata": {},
     "output_type": "execute_result"
    }
   ],
   "source": [
    "tweetList[0]['user'].keys()"
   ]
  },
  {
   "cell_type": "code",
   "execution_count": 103,
   "metadata": {},
   "outputs": [
    {
     "data": {
      "text/plain": [
       "['*श्री साईबाबा संस्थान विश्वस्तव्यवस्था,शिर्डी*\\n  *मंगळवार दि.०७ जुलै २०२०*\\n   #शिर्डी माझे पंढरपूर आरती… https://t.co/fjF7tYxexG',\n",
       " \"Today's Darshan\\n#sabkamalikek #shirdiwalesaibaba  #sairam #sai  #saibaba #shirdidarshan #omsairam\\n#shirdi… https://t.co/voVpAWYVfv\",\n",
       " \"Today's Darshan\\n#sabkamalikek #shirdiwalesaibaba  #sairam #sai  #saibaba #shirdidarshan #omsairam\\n#shirdi… https://t.co/Auj6CoIweW\",\n",
       " \"Today's Darshan \\nFull video on\\nhttps://t.co/o4GWCh7u6e\\n\\n#HappyGuruPurnima #GuruPurnima2020 #GuruPurnima… https://t.co/8gypOmSE0e\",\n",
       " 'Saibaba Blessings of the day | Sai baba, Om sai ram, Ask sai ram\\n\\nhttps://t.co/XVuGI3XVx2\\n\\n#sairam #instagram… https://t.co/nYONZtAYdQ',\n",
       " '*श्री साईबाबा संस्थान विश्वस्तव्यवस्था,शिर्डी*\\n  *Rose!! गुरुपौर्णिमा उत्सव प्रारंभ !!Rose*\\n  *शनिवार दि.०४ जुलै २०… https://t.co/DAeKCn56Fi',\n",
       " \"Today's Darshan\\n#sabkamalikek #shirdiwalesaibaba  #sairam #sai  #saibaba #shirdidarshan #omsairam\\n#shirdi… https://t.co/YnBL1GE42s\",\n",
       " '*श्री #साईबाबा संस्थान विश्वस्तव्यवस्था,शिर्डी*\\n  *शुक्रवार दि.३जुलै २०२०*\\n      * #शिर्डी माझे पंढरपूर आरती *… https://t.co/A4T62EtMnf',\n",
       " '*श्री #साईबाबा संस्थान विश्वस्तव्यवस्था,शिर्डी*\\n  *गुरुवार  दि.२ जुलै २०२०*\\n      धुपारती  https://t.co/ND5OYr6NtD #shirdi #sainath',\n",
       " \"RT @RakeshCAmin2: Today's Darshan\\n#sabkamalikek #shirdiwalesaibaba  #sairam #sai  #saibaba #shirdidarshan #omsairam\\n#shirdi #shirdisaibaba…\",\n",
       " \"Today's Darshan\\n#sabkamalikek #shirdiwalesaibaba  #sairam #sai  #saibaba #shirdidarshan #omsairam\\n#shirdi… https://t.co/nHovzDoqap\",\n",
       " \"Today's Darshan\\n#sabkamalikek #shirdiwalesaibaba  #sairam #sai  #saibaba #shirdidarshan #omsairam\\n#shirdi… https://t.co/XcDEvBippE\",\n",
       " '#shirdiwalesaibaba #saibaba \\n#saibaba #shirdiwalesaibaba #saibabaarti #omsairam #sainath \\n#shirdiwalesaibabaarti… https://t.co/qJovv3Sdy9',\n",
       " '*श्री साईबाबा संस्थान विश्वस्तव्यवस्था,शिर्डी*\\n    *मंगळवार दि. ३० जून २०२०*\\n    *माध्यान्ह आरती * https://t.co/MpUfPDsRa0 #Shirdi #Sainath',\n",
       " \"Today's Darshan\\n#sabkamalikek #shirdiwalesaibaba  #sairam #sai  #saibaba #shirdidarshan #omsairam\\n#shirdi… https://t.co/rjEFAMwfE9\"]"
      ]
     },
     "execution_count": 103,
     "metadata": {},
     "output_type": "execute_result"
    }
   ],
   "source": [
    "params = [tweet['text'] for tweet in tweetList]\n",
    "params"
   ]
  },
  {
   "cell_type": "code",
   "execution_count": 68,
   "metadata": {},
   "outputs": [
    {
     "data": {
      "text/plain": [
       "dict_keys(['created_at', 'id', 'id_str', 'text', 'truncated', 'entities', 'metadata', 'source', 'in_reply_to_status_id', 'in_reply_to_status_id_str', 'in_reply_to_user_id', 'in_reply_to_user_id_str', 'in_reply_to_screen_name', 'user', 'geo', 'coordinates', 'place', 'contributors', 'retweeted_status', 'is_quote_status', 'retweet_count', 'favorite_count', 'favorited', 'retweeted', 'lang'])"
      ]
     },
     "execution_count": 68,
     "metadata": {},
     "output_type": "execute_result"
    }
   ],
   "source": [
    "tweetList[0].keys()"
   ]
  }
 ],
 "metadata": {
  "kernelspec": {
   "display_name": "Python 3",
   "language": "python",
   "name": "python3"
  },
  "language_info": {
   "codemirror_mode": {
    "name": "ipython",
    "version": 3
   },
   "file_extension": ".py",
   "mimetype": "text/x-python",
   "name": "python",
   "nbconvert_exporter": "python",
   "pygments_lexer": "ipython3",
   "version": "3.8.3"
  }
 },
 "nbformat": 4,
 "nbformat_minor": 4
}
